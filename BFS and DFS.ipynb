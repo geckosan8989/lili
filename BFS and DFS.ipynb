{
 "cells": [
  {
   "cell_type": "markdown",
   "id": "fe70dceb-2d1b-4778-9973-8f27ab8d77b0",
   "metadata": {
    "jp-MarkdownHeadingCollapsed": true
   },
   "source": [
    "# BFS"
   ]
  },
  {
   "cell_type": "code",
   "execution_count": 26,
   "id": "b875a13c-4b57-4111-8cf2-4c11845c9f6d",
   "metadata": {},
   "outputs": [],
   "source": [
    "graph = {'A' : ['B','C','G'],\n",
    "         'B' : [],\n",
    "         'C' : ['D','E','F'],\n",
    "         'D' : [],\n",
    "         'E' : [],\n",
    "         'F' : [],\n",
    "         'G' : ['F']\n",
    "        }"
   ]
  },
  {
   "cell_type": "code",
   "execution_count": 27,
   "id": "990fd419-1a57-4c50-9952-9228d4b66ffb",
   "metadata": {},
   "outputs": [
    {
     "name": "stdout",
     "output_type": "stream",
     "text": [
      "BFS : \n",
      "A -> B -> C -> G -> D -> E -> F -> "
     ]
    }
   ],
   "source": [
    "visited = []\n",
    "queued = []\n",
    "\n",
    "def bfs(visited, graph, node):\n",
    "    visited.append(node)\n",
    "    queued.append(node)\n",
    "\n",
    "    while queued:\n",
    "        m = queued.pop(0)\n",
    "        print(m, end=\" -> \")\n",
    "        for neighbor in graph[m]:\n",
    "            if neighbor not in visited:\n",
    "                visited.append(neighbor)\n",
    "                queued.append(neighbor)\n",
    "\n",
    "print(\"BFS : \")\n",
    "bfs(visited, graph, 'A')"
   ]
  },
  {
   "cell_type": "markdown",
   "id": "abbca9f2-3246-455e-82a8-a3dc15beec1f",
   "metadata": {
    "jp-MarkdownHeadingCollapsed": true
   },
   "source": [
    "# DFS"
   ]
  },
  {
   "cell_type": "code",
   "execution_count": 34,
   "id": "1dbd5e50-70e4-44fb-9a5c-b76a6da34e4b",
   "metadata": {},
   "outputs": [],
   "source": [
    "graph = {\n",
    "    'A' : ['B','C','H'],\n",
    "    'B' : ['E'],\n",
    "    'C' : ['D'],\n",
    "    'D' : ['E','I'],\n",
    "    'E' : ['F'],\n",
    "    'F' : ['G'],\n",
    "    'H' : ['I'],\n",
    "    'G' : [],\n",
    "    'I' : ['J'],\n",
    "    'J' : []\n",
    "}"
   ]
  },
  {
   "cell_type": "code",
   "execution_count": 29,
   "id": "e8e1d108-25b3-41e8-9d31-3d292b79c4a2",
   "metadata": {},
   "outputs": [
    {
     "name": "stdout",
     "output_type": "stream",
     "text": [
      "A -> B -> E -> F -> G -> C -> D -> I -> J -> H -> "
     ]
    }
   ],
   "source": [
    "visited = set()\n",
    "def dfs(visited, graph, node):\n",
    "    if node not in visited:\n",
    "        print(node, end = \" -> \")\n",
    "        visited.add(node)\n",
    "        for n in graph[node]:\n",
    "            dfs(visited, graph, n)\n",
    "\n",
    "dfs(visited, graph, 'A')"
   ]
  },
  {
   "cell_type": "markdown",
   "id": "bbe10162-c3f6-4fbb-bad8-f4724b8fea02",
   "metadata": {
    "jp-MarkdownHeadingCollapsed": true
   },
   "source": [
    "# UCS"
   ]
  },
  {
   "cell_type": "code",
   "execution_count": 55,
   "id": "50392540-af2f-4dbe-865a-81b0f718a255",
   "metadata": {},
   "outputs": [
    {
     "name": "stdout",
     "output_type": "stream",
     "text": [
      "['B', 'C', 'K']\n",
      "2050\n"
     ]
    }
   ],
   "source": [
    "import heapq\n",
    "\n",
    "def ucs(graph, start, goal):\n",
    "    frontier = [(0, start)]\n",
    "    came_from = {}\n",
    "    cost_so_far = {start:0}\n",
    "\n",
    "    while frontier:\n",
    "        current_cost, current_node = heapq.heappop(frontier)\n",
    "\n",
    "        if current_node == goal:\n",
    "            break\n",
    "\n",
    "        for neighbor, cost in graph[current_node]:\n",
    "            new_cost = current_cost + cost\n",
    "            if neighbor not in cost_so_far or new_cost < cost_so_far[neighbor]:\n",
    "                cost_so_far[neighbor] = new_cost\n",
    "                heapq.heappush(frontier, (new_cost, neighbor))\n",
    "                came_from[neighbor] = current_node\n",
    "\n",
    "    path = []\n",
    "    node = goal\n",
    "    while node != start:\n",
    "        path.append(node)\n",
    "        node = came_from[node]\n",
    "    path.append(start)\n",
    "    path.reverse()\n",
    "    return path, cost_so_far[goal]\n",
    "\n",
    "graph = {\n",
    "    'B' : [('H', 700), ('C', 350), ('M', 1500)],\n",
    "    'H' : [('M', 700), ('B', 700)],\n",
    "    'C' : [('K', 1700), ('B', 350)],\n",
    "    'M' : [('K', 1800), ('B', 1500), ('H', 700)],\n",
    "    'K' : [('C', 1700), ('M', 1800)]\n",
    "}\n",
    "\n",
    "path, cost = ucs(graph, 'B', 'K')\n",
    "print(path)\n",
    "print(cost)"
   ]
  },
  {
   "cell_type": "markdown",
   "id": "c77b46ab-7391-4643-86e7-160d09e32c33",
   "metadata": {
    "jp-MarkdownHeadingCollapsed": true
   },
   "source": [
    "# A*"
   ]
  },
  {
   "cell_type": "code",
   "execution_count": 76,
   "id": "da8247d2-5b50-4285-93fa-377e647d5511",
   "metadata": {},
   "outputs": [],
   "source": [
    "from queue import PriorityQueue\n",
    "\n",
    "def a_start(graph, start, goal, heuristic):\n",
    "    open_set = PriorityQueue()\n",
    "    open_set.put((0,start))\n",
    "    came_from = {}\n",
    "\n",
    "    g_score = {node:float('inf') for node in graph}\n",
    "    g_score[start]=0\n",
    "\n",
    "    f_score = {node:float('inf') for node in graph}\n",
    "    f_score[start] = heuristic[start]\n",
    "\n",
    "    while not open_set.empty():\n",
    "        _, current = open_set.get()\n",
    "        if current == goal:\n",
    "            path = []\n",
    "            while current in came_from:\n",
    "                path.append(current)\n",
    "                current = came_from[current]\n",
    "                path.append(start)\n",
    "                return path[::-1], f_score[goal]\n",
    "\n",
    "        for neighbor, cost in graph[current].items():\n",
    "            tent_g_score = g_score[current]+cost\n",
    "            if tent_g_score < g_score[neighbor]:\n",
    "                came_from[neighbor] = current\n",
    "                g_score[neighbor] = tent_g_score\n",
    "                f_score[neighbor] = g_score[neighbor]+heuristic[neighbor]\n",
    "                open_set.put((f_score[neighbor], neighbor))\n",
    "    return None, float('inf')"
   ]
  },
  {
   "cell_type": "code",
   "execution_count": 77,
   "id": "3d09adab-604a-4380-8d4f-bffe8b366d83",
   "metadata": {},
   "outputs": [
    {
     "name": "stdout",
     "output_type": "stream",
     "text": [
      "Path:['A', 'G'], Cost:5\n"
     ]
    }
   ],
   "source": [
    "graph = {\n",
    "    'A' : {'B':1, 'C':2},\n",
    "    'B' : {'C':4, 'E':2},\n",
    "    'C' : {'D':1, 'G':3},\n",
    "    'D' : {},\n",
    "    'E' : {},\n",
    "    'F' : {},\n",
    "    'G' : {}\n",
    "}\n",
    "\n",
    "heuristic = {'A':6, 'B':5, 'C':4, 'D':7, 'E':3, 'F':2, 'G':0}\n",
    "\n",
    "start, goal = 'A', 'G'\n",
    "path, cost = a_start(graph, start, goal, heuristic)\n",
    "print(f\"Path:{path}, Cost:{cost}\")"
   ]
  },
  {
   "cell_type": "markdown",
   "id": "ba002d81-50b4-443f-8209-b2245b1e98b4",
   "metadata": {
    "jp-MarkdownHeadingCollapsed": true
   },
   "source": [
    "# GBFS"
   ]
  },
  {
   "cell_type": "code",
   "execution_count": 84,
   "id": "4b61c0f4-5f2b-42d7-8a5b-66928ee78a1c",
   "metadata": {},
   "outputs": [
    {
     "name": "stdout",
     "output_type": "stream",
     "text": [
      "PAth found :  [(0, 0), (1, 0), (2, 0), (3, 0), (4, 0), (4, 1), (4, 2), (4, 3), (4, 4)]\n"
     ]
    }
   ],
   "source": [
    "import heapq\n",
    "\n",
    "class Node:\n",
    "    def __init__(self, position, h_value, parent=None):\n",
    "        self.position=position\n",
    "        self.h_value=h_value\n",
    "        self.parent = parent\n",
    "\n",
    "    def __lt__(self, other):\n",
    "        return self.h_value < other.h_value\n",
    "\n",
    "def heuristic(a,b):\n",
    "    return abs(a[0]-b[0])+abs(a[1]-b[1])\n",
    "\n",
    "def gbfs(start, goal, grid):\n",
    "    open_list = []\n",
    "    closed_list = set()\n",
    "\n",
    "    start_node = Node(start, heuristic(start, goal))\n",
    "    heapq.heappush(open_list, start_node)\n",
    "\n",
    "    while open_list:\n",
    "        current_node = heapq.heappop(open_list)\n",
    "\n",
    "        if current_node.position == goal:\n",
    "            path = []\n",
    "            while current_node:\n",
    "                path.append(current_node.position)\n",
    "                current_node = current_node.parent\n",
    "            return path[::-1]\n",
    "\n",
    "        closed_list.add(current_node.position)\n",
    "\n",
    "        for neighbor in get_neighbors(current_node.position, grid):\n",
    "            if neighbor not in closed_list:\n",
    "                neighbor_node = Node(neighbor, heuristic(neighbor, goal), current_node)\n",
    "                heapq.heappush(open_list, neighbor_node)\n",
    "\n",
    "    return None\n",
    "\n",
    "def get_neighbors(position, grid):\n",
    "    x, y = position\n",
    "    neighbors = []\n",
    "    directions = [(-1,0), (1,0), (0,-1), (0,1)]\n",
    "\n",
    "    for dx, dy in directions:\n",
    "        nx, ny = x + dx, y + dy\n",
    "\n",
    "        if 0 <= nx < len(grid) and 0 <= ny < len(grid[0]) and grid[nx][ny]!=1:\n",
    "            neighbors.append((nx, ny))\n",
    "    return neighbors\n",
    "\n",
    "grid = [\n",
    "    [0,0,0,0,0],\n",
    "    [0,1,1,0,0],\n",
    "    [0,1,0,0,0],\n",
    "    [0,1,0,1,0],\n",
    "    [0,0,0,0,0]\n",
    "]\n",
    "\n",
    "start = (0,0)\n",
    "goal = (4,4)\n",
    "\n",
    "path = gbfs(start, goal, grid)\n",
    "\n",
    "if path:\n",
    "    print(\"PAth found : \",path)\n",
    "else:\n",
    "    print(\"No path found\")"
   ]
  },
  {
   "cell_type": "markdown",
   "id": "760a0f36-f9bd-4946-8e0c-4277e95a22d8",
   "metadata": {
    "jp-MarkdownHeadingCollapsed": true
   },
   "source": [
    "# Hill "
   ]
  },
  {
   "cell_type": "code",
   "execution_count": 88,
   "id": "288e6729-7293-493c-8806-58d07bb3d9fa",
   "metadata": {},
   "outputs": [
    {
     "name": "stdout",
     "output_type": "stream",
     "text": [
      "Path: ['G', 'R', 'D', 'UP', 'J&K', 'L'], Total_cost: 2600\n"
     ]
    }
   ],
   "source": [
    "def hill_climbing(graph, start, goal):\n",
    "    current_node = start\n",
    "    path = []  \n",
    "    total_cost = 0\n",
    "    visited = set()\n",
    "    visited.add(current_node)\n",
    "\n",
    "    while True:\n",
    "        neighbors = graph.get(current_node, [])\n",
    "\n",
    "        if current_node == goal:\n",
    "            return path, total_cost\n",
    "\n",
    "        if not neighbors:\n",
    "            return path, float('inf')  \n",
    "\n",
    "        best_neighbor = None\n",
    "        best_cost = float('inf')\n",
    "        best_edge_cost = 0\n",
    "\n",
    "        for neighbor, cost in neighbors:\n",
    "            if neighbor not in visited:\n",
    "                if cost < best_cost:  \n",
    "                    best_cost = cost\n",
    "                    best_neighbor = neighbor\n",
    "                    best_edge_cost = cost\n",
    "\n",
    "        if best_neighbor is None:\n",
    "            return path, float('inf') \n",
    "\n",
    "        current_node = best_neighbor\n",
    "        path.append(current_node)\n",
    "        total_cost += best_edge_cost\n",
    "        visited.add(current_node)\n",
    "\n",
    "graph = {\n",
    "    'M': [('G', 500), ('MP', 700), ('R', 800)],\n",
    "    'G': [('R', 600), ('M', 500)],\n",
    "    'MP': [('M', 700)],\n",
    "    'R': [('D', 400), ('M', 800), ('G', 600)],\n",
    "    'D': [('UP', 200), ('R', 400)],\n",
    "    'UP': [('D', 200), ('J&K', 600)],\n",
    "    'J&K': [('L', 300), ('UP', 600)],\n",
    "}\n",
    "\n",
    "path, cost = hill_climbing(graph, 'M', 'L')\n",
    "print(f\"Path: {path}, Total_cost: {cost}\")\n"
   ]
  },
  {
   "cell_type": "markdown",
   "id": "965e5880-2420-4ff2-afc3-ae7da40afc99",
   "metadata": {
    "jp-MarkdownHeadingCollapsed": true
   },
   "source": [
    "# Beam"
   ]
  },
  {
   "cell_type": "code",
   "execution_count": 1,
   "id": "e3d0379e-5b7d-4bd9-92c6-07ea5c3c5c23",
   "metadata": {},
   "outputs": [
    {
     "name": "stdout",
     "output_type": "stream",
     "text": [
      "Best postion found: 6\n",
      "Obj values: 24\n"
     ]
    }
   ],
   "source": [
    "def objective_function(x):\n",
    "    return -(x**2)+10*x\n",
    "\n",
    "def beam_search(start, objective_function, beam_width=3, iterations=10):\n",
    "    open_list = [start]\n",
    "    for _ in range(iterations):\n",
    "        neighbors = [x+1 for x in open_list]+[x-1 for x in open_list]\n",
    "        scored_neighbors = [(neighbor, objective_function(neighbor)) for neighbor in neighbors]\n",
    "        open_list = [x[0] for x in sorted(scored_neighbors, key=lambda x:x[1], reverse=True)[:beam_width]]\n",
    "    return open_list[0]\n",
    "\n",
    "start = 0\n",
    "best_position = beam_search(start, objective_function, beam_width=3)\n",
    "\n",
    "print(\"Best postion found:\", best_position)\n",
    "print(\"Obj values:\", objective_function(best_position))"
   ]
  },
  {
   "cell_type": "markdown",
   "id": "3c26f876-6f4c-4143-b97f-cc9d1c4c9be7",
   "metadata": {
    "jp-MarkdownHeadingCollapsed": true
   },
   "source": [
    "# FOL"
   ]
  },
  {
   "cell_type": "code",
   "execution_count": 21,
   "id": "bbc3780a-fd34-4631-9dd6-2c69a550d0a8",
   "metadata": {},
   "outputs": [
    {
     "name": "stdout",
     "output_type": "stream",
     "text": [
      "It is Cloudy so the weather will be rainy\n",
      "It is Clear so the weather will not be rainy\n",
      "It is Windy so the weather will not be rainy\n"
     ]
    }
   ],
   "source": [
    "from sympy.logic.boolalg import And, Or, Not\n",
    "from sympy.abc import x, y\n",
    "\n",
    "rainy = lambda weather: f'{weather} is rainy'\n",
    "\n",
    "facts = {\n",
    "    'Cloudy' : True,\n",
    "    'Clear' : False,\n",
    "    'Windy' : False\n",
    "}\n",
    "\n",
    "def rule(weather):\n",
    "    if facts.get(weather, False):\n",
    "        return rainy(weather)\n",
    "\n",
    "def query(weather):\n",
    "    if rule(weather):\n",
    "        return f\"It is {weather} so the weather will be rainy\"\n",
    "    else:\n",
    "        return f\"It is {weather} so the weather will not be rainy\"\n",
    "\n",
    "query(\"Clear\")\n",
    "\n",
    "weather = ['Cloudy', 'Clear', 'Windy']\n",
    "\n",
    "for w in facts.keys():\n",
    "    print(query(w))"
   ]
  }
 ],
 "metadata": {
  "kernelspec": {
   "display_name": "Python 3 (ipykernel)",
   "language": "python",
   "name": "python3"
  },
  "language_info": {
   "codemirror_mode": {
    "name": "ipython",
    "version": 3
   },
   "file_extension": ".py",
   "mimetype": "text/x-python",
   "name": "python",
   "nbconvert_exporter": "python",
   "pygments_lexer": "ipython3",
   "version": "3.11.7"
  }
 },
 "nbformat": 4,
 "nbformat_minor": 5
}
