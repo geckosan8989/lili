{
 "cells": [
  {
   "cell_type": "code",
   "execution_count": 1,
   "id": "3a5e5e46-6cdf-49f1-8f7d-9fe89ca569c6",
   "metadata": {},
   "outputs": [
    {
     "name": "stdout",
     "output_type": "stream",
     "text": [
      "Welcome to the 8-Puzzle!\n",
      "Start State:\n",
      "1 2 3\n",
      "4   5\n",
      "6 7 8\n",
      "\n",
      "\n",
      "Goal State:\n",
      "1 2 3\n",
      "4 5 6\n",
      "7 8  \n",
      "\n",
      "\n",
      "Your move:\n",
      "Enter the tile number you want to move (e.g., 1, 2, 3...):\n"
     ]
    },
    {
     "name": "stdin",
     "output_type": "stream",
     "text": [
      " 5\n"
     ]
    },
    {
     "name": "stdout",
     "output_type": "stream",
     "text": [
      "1 2 3\n",
      "4 5  \n",
      "6 7 8\n",
      "\n",
      "\n",
      "AI is solving the puzzle...\n",
      "AI's next move:\n",
      "1 2 3\n",
      "4 5 8\n",
      "6 7  \n",
      "\n",
      "\n",
      "Your move:\n",
      "Enter the tile number you want to move (e.g., 1, 2, 3...):\n"
     ]
    },
    {
     "name": "stdin",
     "output_type": "stream",
     "text": [
      " 8\n"
     ]
    },
    {
     "name": "stdout",
     "output_type": "stream",
     "text": [
      "1 2 3\n",
      "4 5  \n",
      "6 7 8\n",
      "\n",
      "\n",
      "AI is solving the puzzle...\n",
      "AI's next move:\n",
      "1 2 3\n",
      "4 5 8\n",
      "6 7  \n",
      "\n",
      "\n",
      "Your move:\n",
      "Enter the tile number you want to move (e.g., 1, 2, 3...):\n"
     ]
    },
    {
     "name": "stdin",
     "output_type": "stream",
     "text": [
      " 7\n"
     ]
    },
    {
     "name": "stdout",
     "output_type": "stream",
     "text": [
      "1 2 3\n",
      "4 5 8\n",
      "6   7\n",
      "\n",
      "\n",
      "AI is solving the puzzle...\n",
      "AI's next move:\n",
      "1 2 3\n",
      "4 5 8\n",
      "  6 7\n",
      "\n",
      "\n",
      "Your move:\n",
      "Enter the tile number you want to move (e.g., 1, 2, 3...):\n"
     ]
    },
    {
     "name": "stdin",
     "output_type": "stream",
     "text": [
      " 6\n"
     ]
    },
    {
     "name": "stdout",
     "output_type": "stream",
     "text": [
      "1 2 3\n",
      "4 5 8\n",
      "6   7\n",
      "\n",
      "\n",
      "AI is solving the puzzle...\n",
      "AI's next move:\n",
      "1 2 3\n",
      "4 5 8\n",
      "  6 7\n",
      "\n",
      "\n",
      "Your move:\n",
      "Enter the tile number you want to move (e.g., 1, 2, 3...):\n"
     ]
    },
    {
     "name": "stdin",
     "output_type": "stream",
     "text": [
      " 5\n"
     ]
    },
    {
     "name": "stdout",
     "output_type": "stream",
     "text": [
      "Invalid Move. The tile must be adjacent to the empty space.\n",
      "Enter the tile number you want to move (e.g., 1, 2, 3...):\n"
     ]
    },
    {
     "name": "stdin",
     "output_type": "stream",
     "text": [
      " 6\n"
     ]
    },
    {
     "name": "stdout",
     "output_type": "stream",
     "text": [
      "1 2 3\n",
      "4 5 8\n",
      "6   7\n",
      "\n",
      "\n",
      "AI is solving the puzzle...\n",
      "AI's next move:\n",
      "1 2 3\n",
      "4 5 8\n",
      "  6 7\n",
      "\n",
      "\n",
      "Your move:\n",
      "Enter the tile number you want to move (e.g., 1, 2, 3...):\n"
     ]
    },
    {
     "name": "stdin",
     "output_type": "stream",
     "text": [
      " 4\n"
     ]
    },
    {
     "name": "stdout",
     "output_type": "stream",
     "text": [
      "1 2 3\n",
      "  5 8\n",
      "4 6 7\n",
      "\n",
      "\n",
      "AI is solving the puzzle...\n",
      "AI's next move:\n",
      "1 2 3\n",
      "5   8\n",
      "4 6 7\n",
      "\n",
      "\n",
      "Your move:\n",
      "Enter the tile number you want to move (e.g., 1, 2, 3...):\n"
     ]
    },
    {
     "name": "stdin",
     "output_type": "stream",
     "text": [
      " 8\n"
     ]
    },
    {
     "name": "stdout",
     "output_type": "stream",
     "text": [
      "1 2 3\n",
      "5 8  \n",
      "4 6 7\n",
      "\n",
      "\n",
      "AI is solving the puzzle...\n",
      "AI's next move:\n",
      "1 2 3\n",
      "5   8\n",
      "4 6 7\n",
      "\n",
      "\n",
      "Your move:\n",
      "Enter the tile number you want to move (e.g., 1, 2, 3...):\n"
     ]
    },
    {
     "ename": "KeyboardInterrupt",
     "evalue": "Interrupted by user",
     "output_type": "error",
     "traceback": [
      "\u001b[1;31m---------------------------------------------------------------------------\u001b[0m",
      "\u001b[1;31mKeyboardInterrupt\u001b[0m                         Traceback (most recent call last)",
      "Cell \u001b[1;32mIn[1], line 126\u001b[0m\n\u001b[0;32m    123\u001b[0m                 \u001b[38;5;28mprint\u001b[39m(\u001b[38;5;124m\"\u001b[39m\u001b[38;5;124mAI solved the puzzle!\u001b[39m\u001b[38;5;124m\"\u001b[39m)\n\u001b[0;32m    124\u001b[0m                 \u001b[38;5;28;01mbreak\u001b[39;00m\n\u001b[1;32m--> 126\u001b[0m play_8_puzzle()\n",
      "Cell \u001b[1;32mIn[1], line 105\u001b[0m, in \u001b[0;36mplay_8_puzzle\u001b[1;34m()\u001b[0m\n\u001b[0;32m    103\u001b[0m \u001b[38;5;28;01mwhile\u001b[39;00m \u001b[38;5;28;01mTrue\u001b[39;00m:\n\u001b[0;32m    104\u001b[0m     \u001b[38;5;28mprint\u001b[39m(\u001b[38;5;124m\"\u001b[39m\u001b[38;5;124mYour move:\u001b[39m\u001b[38;5;124m\"\u001b[39m)\n\u001b[1;32m--> 105\u001b[0m     start_state \u001b[38;5;241m=\u001b[39m player_move(start_state)\n\u001b[0;32m    106\u001b[0m     print_board(start_state)\n\u001b[0;32m    108\u001b[0m     \u001b[38;5;28;01mif\u001b[39;00m start_state \u001b[38;5;241m==\u001b[39m goal_state:\n",
      "Cell \u001b[1;32mIn[1], line 62\u001b[0m, in \u001b[0;36mplayer_move\u001b[1;34m(board)\u001b[0m\n\u001b[0;32m     60\u001b[0m \u001b[38;5;28;01mtry\u001b[39;00m:\n\u001b[0;32m     61\u001b[0m     \u001b[38;5;28mprint\u001b[39m(\u001b[38;5;124m\"\u001b[39m\u001b[38;5;124mEnter the tile number you want to move (e.g., 1, 2, 3...):\u001b[39m\u001b[38;5;124m\"\u001b[39m)\n\u001b[1;32m---> 62\u001b[0m     move \u001b[38;5;241m=\u001b[39m \u001b[38;5;28mint\u001b[39m(\u001b[38;5;28minput\u001b[39m())\n\u001b[0;32m     63\u001b[0m     empty_row, empty_col \u001b[38;5;241m=\u001b[39m find_empty_tile(board)\n\u001b[0;32m     65\u001b[0m     tile_row, tile_col \u001b[38;5;241m=\u001b[39m \u001b[38;5;241m-\u001b[39m\u001b[38;5;241m1\u001b[39m, \u001b[38;5;241m-\u001b[39m\u001b[38;5;241m1\u001b[39m\n",
      "File \u001b[1;32mC:\\ProgramData\\anaconda3\\Lib\\site-packages\\ipykernel\\kernelbase.py:1262\u001b[0m, in \u001b[0;36mKernel.raw_input\u001b[1;34m(self, prompt)\u001b[0m\n\u001b[0;32m   1260\u001b[0m     msg \u001b[38;5;241m=\u001b[39m \u001b[38;5;124m\"\u001b[39m\u001b[38;5;124mraw_input was called, but this frontend does not support input requests.\u001b[39m\u001b[38;5;124m\"\u001b[39m\n\u001b[0;32m   1261\u001b[0m     \u001b[38;5;28;01mraise\u001b[39;00m StdinNotImplementedError(msg)\n\u001b[1;32m-> 1262\u001b[0m \u001b[38;5;28;01mreturn\u001b[39;00m \u001b[38;5;28mself\u001b[39m\u001b[38;5;241m.\u001b[39m_input_request(\n\u001b[0;32m   1263\u001b[0m     \u001b[38;5;28mstr\u001b[39m(prompt),\n\u001b[0;32m   1264\u001b[0m     \u001b[38;5;28mself\u001b[39m\u001b[38;5;241m.\u001b[39m_parent_ident[\u001b[38;5;124m\"\u001b[39m\u001b[38;5;124mshell\u001b[39m\u001b[38;5;124m\"\u001b[39m],\n\u001b[0;32m   1265\u001b[0m     \u001b[38;5;28mself\u001b[39m\u001b[38;5;241m.\u001b[39mget_parent(\u001b[38;5;124m\"\u001b[39m\u001b[38;5;124mshell\u001b[39m\u001b[38;5;124m\"\u001b[39m),\n\u001b[0;32m   1266\u001b[0m     password\u001b[38;5;241m=\u001b[39m\u001b[38;5;28;01mFalse\u001b[39;00m,\n\u001b[0;32m   1267\u001b[0m )\n",
      "File \u001b[1;32mC:\\ProgramData\\anaconda3\\Lib\\site-packages\\ipykernel\\kernelbase.py:1305\u001b[0m, in \u001b[0;36mKernel._input_request\u001b[1;34m(self, prompt, ident, parent, password)\u001b[0m\n\u001b[0;32m   1302\u001b[0m \u001b[38;5;28;01mexcept\u001b[39;00m \u001b[38;5;167;01mKeyboardInterrupt\u001b[39;00m:\n\u001b[0;32m   1303\u001b[0m     \u001b[38;5;66;03m# re-raise KeyboardInterrupt, to truncate traceback\u001b[39;00m\n\u001b[0;32m   1304\u001b[0m     msg \u001b[38;5;241m=\u001b[39m \u001b[38;5;124m\"\u001b[39m\u001b[38;5;124mInterrupted by user\u001b[39m\u001b[38;5;124m\"\u001b[39m\n\u001b[1;32m-> 1305\u001b[0m     \u001b[38;5;28;01mraise\u001b[39;00m \u001b[38;5;167;01mKeyboardInterrupt\u001b[39;00m(msg) \u001b[38;5;28;01mfrom\u001b[39;00m \u001b[38;5;28;01mNone\u001b[39;00m\n\u001b[0;32m   1306\u001b[0m \u001b[38;5;28;01mexcept\u001b[39;00m \u001b[38;5;167;01mException\u001b[39;00m:\n\u001b[0;32m   1307\u001b[0m     \u001b[38;5;28mself\u001b[39m\u001b[38;5;241m.\u001b[39mlog\u001b[38;5;241m.\u001b[39mwarning(\u001b[38;5;124m\"\u001b[39m\u001b[38;5;124mInvalid Message:\u001b[39m\u001b[38;5;124m\"\u001b[39m, exc_info\u001b[38;5;241m=\u001b[39m\u001b[38;5;28;01mTrue\u001b[39;00m)\n",
      "\u001b[1;31mKeyboardInterrupt\u001b[0m: Interrupted by user"
     ]
    }
   ],
   "source": [
    "import math\n",
    "from collections import deque\n",
    "\n",
    "def print_board(board):\n",
    "    for row in board:\n",
    "        print(' '.join(str(x) if x != 0 else ' ' for x in row))\n",
    "    print('\\n')\n",
    "\n",
    "def is_solvable(puzzle):\n",
    "    flat_puzzle = [num for row in puzzle for num in row if num != 0]\n",
    "    inversions = 0\n",
    "    for i in range(len(flat_puzzle)):\n",
    "        for j in range(i + 1, len(flat_puzzle)):\n",
    "            if flat_puzzle[i] > flat_puzzle[j]:\n",
    "                inversions += 1\n",
    "    return inversions % 2 == 0\n",
    "\n",
    "def find_empty_tile(puzzle):\n",
    "    for i, row in enumerate(puzzle):\n",
    "        for j, value in enumerate(row):\n",
    "            if value == 0:\n",
    "                return i, j\n",
    "\n",
    "def generate_moves(puzzle):\n",
    "    row, col = find_empty_tile(puzzle)\n",
    "    moves = []\n",
    "    directions = [(-1, 0), (1, 0), (0, -1), (0, 1)]\n",
    "\n",
    "    for dr, dc in directions:\n",
    "        new_row, new_col = row + dr, col + dc\n",
    "        if 0 <= new_row < 3 and 0 <= new_col < 3:\n",
    "            new_puzzle = [list(r) for r in puzzle]\n",
    "            new_puzzle[row][col], new_puzzle[new_row][new_col] = new_puzzle[new_row][new_col], new_puzzle[row][col]\n",
    "            moves.append(new_puzzle)\n",
    "    return moves\n",
    "\n",
    "def solve_puzzle(start, goal):\n",
    "    if not is_solvable(start):\n",
    "        return \"The puzzle is not solvable.\"\n",
    "\n",
    "    queue = deque([(start, [])])\n",
    "    visited = set()\n",
    "    visited.add(tuple(tuple(row) for row in start))\n",
    "\n",
    "    while queue:\n",
    "        current, path = queue.popleft()\n",
    "\n",
    "        if current == goal:\n",
    "            return path + [current]\n",
    "\n",
    "        for move in generate_moves(current):\n",
    "            move_tuple = tuple(tuple(row) for row in move)\n",
    "            if move_tuple not in visited:\n",
    "                visited.add(move_tuple)\n",
    "                queue.append((move, path + [current]))\n",
    "    return \"No Solution Found.\"\n",
    "\n",
    "def player_move(board):\n",
    "    while True:\n",
    "        try:\n",
    "            print(\"Enter the tile number you want to move (e.g., 1, 2, 3...):\")\n",
    "            move = int(input())\n",
    "            empty_row, empty_col = find_empty_tile(board)\n",
    "\n",
    "            tile_row, tile_col = -1, -1\n",
    "            for i in range(3):\n",
    "                for j in range(3):\n",
    "                    if board[i][j] == move:\n",
    "                        tile_row, tile_col = i, j\n",
    "                        break\n",
    "\n",
    "            if (abs(tile_row - empty_row) == 1 and tile_col == empty_col) or \\\n",
    "               (abs(tile_col - empty_col) == 1 and tile_row == empty_row):\n",
    "                board[empty_row][empty_col], board[tile_row][tile_col] = board[tile_row][tile_col], board[empty_row][empty_col]\n",
    "                return board\n",
    "            else:\n",
    "                print(\"Invalid Move. The tile must be adjacent to the empty space.\")\n",
    "        except ValueError:\n",
    "            print(\"Invalid Input. Please enter a valid number from the board.\")\n",
    "\n",
    "def play_8_puzzle():\n",
    "    start_state = [\n",
    "        [1, 2, 3],\n",
    "        [4, 0, 5],\n",
    "        [6, 7, 8]\n",
    "    ]\n",
    "    goal_state = [\n",
    "        [1, 2, 3],\n",
    "        [4, 5, 6],\n",
    "        [7, 8, 0]\n",
    "    ]\n",
    "\n",
    "    print(\"Welcome to the 8-Puzzle!\")\n",
    "    print(\"Start State:\")\n",
    "    print_board(start_state)\n",
    "    print(\"Goal State:\")\n",
    "    print_board(goal_state)\n",
    "\n",
    "    if not is_solvable(start_state):\n",
    "        print(\"The Start configuration is not solvable.\")\n",
    "        return\n",
    "\n",
    "    while True:\n",
    "        print(\"Your move:\")\n",
    "        start_state = player_move(start_state)\n",
    "        print_board(start_state)\n",
    "\n",
    "        if start_state == goal_state:\n",
    "            print(\"Congratulations! You solved the puzzle!\")\n",
    "            break\n",
    "\n",
    "        print(\"AI is solving the puzzle...\")\n",
    "        solution = solve_puzzle(start_state, goal_state)\n",
    "        if isinstance(solution, str):\n",
    "            print(solution)\n",
    "            break\n",
    "        else:\n",
    "            print(\"AI's next move:\")\n",
    "            start_state = solution[1]\n",
    "            print_board(start_state)\n",
    "\n",
    "            if start_state == goal_state:\n",
    "                print(\"AI solved the puzzle!\")\n",
    "                break\n",
    "\n",
    "play_8_puzzle()"
   ]
  },
  {
   "cell_type": "code",
   "execution_count": null,
   "id": "45cf7c37-af1f-4e72-9e6b-90aa54513910",
   "metadata": {},
   "outputs": [],
   "source": []
  }
 ],
 "metadata": {
  "kernelspec": {
   "display_name": "Python 3 (ipykernel)",
   "language": "python",
   "name": "python3"
  },
  "language_info": {
   "codemirror_mode": {
    "name": "ipython",
    "version": 3
   },
   "file_extension": ".py",
   "mimetype": "text/x-python",
   "name": "python",
   "nbconvert_exporter": "python",
   "pygments_lexer": "ipython3",
   "version": "3.11.7"
  }
 },
 "nbformat": 4,
 "nbformat_minor": 5
}
